{
 "cells": [
  {
   "cell_type": "markdown",
   "metadata": {},
   "source": [
    "Header File with Header Guard:\n",
    "Your Point class will define a 2 dimensional point (a point with an x, and y coordinate). It should have two constructors: one that takes 0 parameters and creates a point at the origin, and one that takes an x and a y value and creates a point at the given coordinates. It should have getter and setter methods for each coordinate and two methods, Distance, to calculate the Euclidian distance between this Point and one other point, and Translate, which moves all of this Points coordinates by whatever integer value is passed to the method. *Note that Distance and Translate are methods of the Point class.*"
   ]
  },
  {
   "cell_type": "code",
   "execution_count": null,
   "metadata": {},
   "outputs": [],
   "source": [
    "#include <math.h>\n",
    "#ifndef POINT\n",
    "#define POINT\n",
    "\n",
    "class Point{\n",
    "    public:\n",
    "        float x;\n",
    "        float y;\n",
    "        //constructors\n",
    "        Point(){\n",
    "            x = 0;\n",
    "            y = 0;\n",
    "        }\n",
    "        Point(float x, float y){\n",
    "            x = x;\n",
    "            y = y;\n",
    "        }\n",
    "        \n",
    "        //functions to get the point values:\n",
    "        float get_x(){\n",
    "            return x;\n",
    "        }\n",
    "        float get_y(){\n",
    "            return y;\n",
    "        }\n",
    "        //functions to set values\n",
    "        void set_x(float v){\n",
    "            x = v;\n",
    "        }\n",
    "        void set_y(float v){\n",
    "            y = v;\n",
    "        }\n",
    "        float distance(float x2, float y2){\n",
    "            float dist = sqrt(((x-x2)*(x-x2)) + ((y-y2)*(y-y2)));\n",
    "            return dist;\n",
    "        }\n",
    "        void translate(int trans){\n",
    "            float new_x = x + trans;\n",
    "            float new_y = y + trans;\n",
    "            x = new_x;\n",
    "            y = new_y;\n",
    "        }\n",
    "};\n",
    "\n",
    "#endif"
   ]
  },
  {
   "cell_type": "markdown",
   "metadata": {},
   "source": [
    "Point.cpp (this file should contain the implementations of your functions and should include function comments)"
   ]
  },
  {
   "cell_type": "code",
   "execution_count": null,
   "metadata": {},
   "outputs": [],
   "source": []
  },
  {
   "cell_type": "markdown",
   "metadata": {},
   "source": [
    "main.cpp (this file should include file comment)\n",
    "Your main function should create at least three points, calculate the distance between them, and report their coordinates and the calculated distances between them to the user. Do not prompt the user for the coordinates of the Points that you create.\n",
    "\n",
    "Your main function should then translate one of the Points that you've created by a positive amount, then report the new coordinates and calculated distances between the translated point and the other points that you created to the user.\n",
    "\n",
    "It should then translate the same Point by a negative amount (this amount does not need to be the same as the positive amount), then report the new coordinates and calculated distances between the translated point and the other points that you created to the user."
   ]
  },
  {
   "cell_type": "code",
   "execution_count": null,
   "metadata": {},
   "outputs": [],
   "source": []
  }
 ],
 "metadata": {
  "kernelspec": {
   "display_name": "C++17",
   "language": "C++17",
   "name": "xcpp17"
  },
  "language_info": {
   "name": ""
  }
 },
 "nbformat": 4,
 "nbformat_minor": 4
}
